{
 "cells": [
  {
   "cell_type": "code",
   "execution_count": 1,
   "metadata": {},
   "outputs": [],
   "source": [
    "import torch.nn as nn\n",
    "\n",
    "# Conv2d 매개변수\n",
    "# torch.nn.Conv2d(\n",
    "#     in_channels, \n",
    "#     out_channels, \n",
    "#     kernel_size, \n",
    "#     stride=1, \n",
    "#     padding=0, \n",
    "#     dilation=1, \n",
    "#     groups=1, \n",
    "#     bias=True, \n",
    "#     padding_mode='zeros'\n",
    "# )\n",
    "\n",
    "# Define model\n",
    "class ConvNet(nn.Module):\n",
    "    def __init__(self, drop_rate=0.0):\n",
    "        super().__init__()\n",
    "        self.conv1 = nn.Conv2d(3, 96, 3, 2, 1)\n",
    "        self.conv2 = nn.Conv2d(96, 192, 3, 1, 1)\n",
    "        self.conv3 = nn.Conv2d(192, 384, 3, 2, 1)\n",
    "        self.conv4 = nn.Conv2d(384, 384, 3, 1, 1)\n",
    "        self.drop = nn.Dropout(drop_rate)\n",
    "        self.fc = nn.Linear(384, 10)\n",
    "        self.act = nn.ReLU()\n",
    "        \n",
    "    def forward(self, x):\n",
    "        x = self.act(self.conv1(x))\n",
    "        x = self.act(self.conv2(x))\n",
    "        x = self.act(self.conv3(x))\n",
    "        x = self.act(self.conv4(x))\n",
    "        x = x.mean([-1, -2])\n",
    "        x = self.drop(x)\n",
    "        x = self.fc(x)\n",
    "        return x"
   ]
  }
 ],
 "metadata": {
  "anaconda-cloud": {},
  "kernelspec": {
   "display_name": "BangEnv",
   "language": "python",
   "name": "bangenv"
  },
  "language_info": {
   "codemirror_mode": {
    "name": "ipython",
    "version": 3
   },
   "file_extension": ".py",
   "mimetype": "text/x-python",
   "name": "python",
   "nbconvert_exporter": "python",
   "pygments_lexer": "ipython3",
   "version": "3.9.12"
  }
 },
 "nbformat": 4,
 "nbformat_minor": 4
}
