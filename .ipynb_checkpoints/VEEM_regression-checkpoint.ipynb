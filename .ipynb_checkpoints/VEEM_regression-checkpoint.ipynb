{
 "cells": [
  {
   "cell_type": "markdown",
   "id": "66fbb486",
   "metadata": {},
   "source": [
    "## 라이브러리 불러오기"
   ]
  },
  {
   "cell_type": "code",
   "execution_count": 82,
   "id": "3c00720b",
   "metadata": {},
   "outputs": [],
   "source": [
    "import os\n",
    "import pandas as pd\n",
    "import numpy as np\n",
    "\n",
    "import matplotlib.pyplot as plt\n",
    "from matplotlib import font_manager, rc\n",
    "import matplotlib.font_manager as fm"
   ]
  },
  {
   "cell_type": "markdown",
   "id": "104fca26",
   "metadata": {},
   "source": [
    "## 초기 설정"
   ]
  },
  {
   "cell_type": "code",
   "execution_count": 93,
   "id": "a97a2029",
   "metadata": {},
   "outputs": [
    {
     "name": "stdout",
     "output_type": "stream",
     "text": [
      "['STIXSizeThreeSym', 'DejaVu Sans', 'cmss10', 'cmmi10', 'DejaVu Serif', 'DejaVu Serif', 'STIXSizeFiveSym', 'STIXGeneral', 'STIXNonUnicode', 'STIXSizeOneSym', 'cmsy10', 'DejaVu Sans', 'DejaVu Serif Display', 'STIXSizeFourSym', 'DejaVu Sans', 'STIXNonUnicode', 'DejaVu Sans', 'DejaVu Sans Mono', 'DejaVu Sans Mono', 'STIXNonUnicode', 'DejaVu Sans Mono', 'STIXSizeTwoSym', 'STIXGeneral', 'cmtt10', 'STIXSizeTwoSym', 'DejaVu Serif', 'STIXSizeThreeSym', 'DejaVu Serif', 'STIXNonUnicode', 'cmr10', 'STIXSizeFourSym', 'cmb10', 'STIXGeneral', 'DejaVu Sans Display', 'cmex10', 'DejaVu Sans Mono', 'STIXGeneral', 'STIXSizeOneSym', 'Arial Rounded MT Bold', 'ISOCT3', 'Papyrus', 'Symeteo', 'Freestyle Script', 'Artifakt Element', 'Cambria', 'Niagara Engraved', 'Symap', 'Gulim', 'Lucida Fax', 'Syastro', 'Pyunji R', 'Perpetua', 'Proxy 2', 'Rage Italic', 'French Script MT', 'CountryBlueprint', 'Leelawadee UI', 'Segoe Print', 'Book Antiqua', 'Footlight MT Light', 'Century Gothic', 'Symath', 'Arial', 'Lucida Sans', 'Swis721 LtCn BT', 'Headline R', 'HCR Batang', 'Rockwell', 'Swis721 BT', 'Segoe UI', 'ISOCT3', 'Constantia', 'Century Schoolbook', 'Microsoft Uighur', 'Bell MT', 'Tw Cen MT', 'Bookman Old Style', 'Californian FB', 'Bodoni MT', 'Leelawadee', 'Swis721 LtCn BT', 'Proxy 5', 'Microsoft New Tai Lue', 'Italic', 'HCR Batang ExtB', 'Copperplate Gothic Light', 'Segoe UI', 'Dutch801 Rm BT', 'Magneto', 'Onyx', 'Calibri', 'ScriptS', 'ISOCP', 'Book Antiqua', 'HYPMokGak-Bold', 'HCR Batang Ext', 'HyhwpEQ', 'Palatino Linotype', 'Kunstler Script', 'Bodoni MT', 'Cooper Black', 'TechnicBold', 'Symusic', 'Sitka Small', 'Century Schoolbook', 'Cambria', 'Franklin Gothic Book', 'Calibri', 'Courier New', 'Comic Sans MS', 'Bodoni MT', 'Rockwell Condensed', 'HYPost-Medium', 'Microsoft Uighur', 'Symath', 'Wingdings 3', 'NewJumja', 'Gill Sans MT', 'Bookman Old Style', 'Bodoni MT', 'Constantia', 'GreekC', 'Harlow Solid Italic', 'Berlin Sans FB', 'ScriptC', 'Haan Wing2', 'Simplex', 'Complex', 'ISOCP', 'Artifakt Element', 'ISOCP2', 'Swis721 Blk BT', 'GDT_IV25', 'Arial', 'ISOCPEUR', 'RomanS', 'Times New Roman', 'GreekS', 'Bahnschrift', 'Txt', 'Bauhaus 93', 'Yu Gothic', 'Tw Cen MT', 'Gadugi', 'Bodoni MT', 'Wingdings 2', 'ScriptS', 'Berlin Sans FB Demi', 'Gill Sans MT', 'ISOCT2', 'Segoe MDL2 Assets', 'Batang', 'Artifakt Element', 'Poor Richard', 'Yet R', 'Forte', 'SimSun-ExtB', 'Courier New', 'Goudy Stout', 'Complex', 'Microsoft JhengHei', 'Wingdings', 'Ebrima', 'AMGDT_IV50', 'HYGothic-Extra', 'Franklin Gothic Medium', 'Artifakt Element', 'Tw Cen MT', 'Nirmala UI', 'Corbel', 'Complex', 'Showcard Gothic', 'Franklin Gothic Heavy', 'Marlett', 'Engravers MT', 'Garamond', 'Perpetua', 'EuroRoman', 'Franklin Gothic Demi', 'Hancom MalangMalang', 'Stencil', 'Dutch801 XBd BT', 'Comic Sans MS', 'Palatino Linotype', 'SuperFrench', 'Symbol', 'Microsoft PhagsPa', 'Mistral', 'Cambria', 'Candara', 'Swis721 Cn BT', 'Georgia', 'Swis721 BT', 'AcadEref', 'Artifakt Element', 'Ravie', 'Swis721 Blk BT', 'Ink Free', 'Garamond', 'Bodoni MT', 'GOST Common', 'Centaur', 'Viner Hand ITC', 'Segoe UI', 'Rockwell', 'Vladimir Script', 'Segoe UI', 'Franklin Gothic Medium', 'MV Boli', 'Segoe Script', 'ISOCTEUR', 'Corbel', 'Malgun Gothic', 'Microsoft YaHei', 'Swis721 BlkCn BT', 'Corbel', 'Proxy 4', 'Romantic', 'Corbel', 'Bookman Old Style', 'Matura MT Script Capitals', 'HYGothic-Medium', 'HYGraphic-Medium', 'Calisto MT', 'Franklin Gothic Book', 'Lucida Fax', 'Goudy Old Style', 'Syastro', 'Romantic', 'Artifakt Element', 'Old English Text MT', 'Haettenschweiler', 'Monotype Corsiva', 'Perpetua', 'Gill Sans MT Ext Condensed Bold', 'RomanD', 'Artifakt Element', 'Stylus BT', 'Goudy Old Style', 'Century Gothic', 'Bell MT', 'Symap', 'Gadugi', 'Yu Gothic', 'Artifakt Element', 'Romantic', 'Felix Titling', 'Lucida Sans Unicode', 'Comic Sans MS', 'ISOCP3', 'MS Reference Specialty', 'Corbel', 'Hancom Gothic', 'Tw Cen MT', 'Century', 'UniversalMath1 BT', 'MS Gothic', 'Dubai', 'Lucida Sans', 'Agency FB', 'Calibri', 'Gill Sans Ultra Bold Condensed', 'Lucida Sans', 'Parchment', 'Yu Gothic', 'Tahoma', 'GDT', 'Wide Latin', 'Imprint MT Shadow', 'Sitka Small', 'Segoe UI Symbol', 'Colonna MT', 'Franklin Gothic Demi', 'Dubai', 'BankGothic Lt BT', 'Century Schoolbook', 'Snap ITC', 'Swis721 Ex BT', 'Bradley Hand ITC', 'Microsoft YaHei', 'Hancom Gothic', 'Proxy 6', 'Georgia', 'Comic Sans MS', 'Curlz MT', 'Times New Roman', 'Gill Sans MT Condensed', 'GreekS', 'Agency FB', 'Berlin Sans FB', 'Playbill', 'Lucida Bright', 'Technic', 'Symusic', 'Palace Script MT', 'CommercialScript BT', 'Swis721 Ex BT', 'RomanC', 'Monospac821 BT', 'Century Gothic', 'Kristen ITC', 'Artifakt Element', 'Proxy 1', 'Tw Cen MT Condensed', 'Segoe UI', 'Webdings', 'Microsoft JhengHei', 'Tempus Sans ITC', 'SansSerif', 'GothicE', 'Segoe UI Historic', 'Swis721 BlkEx BT', 'Artifakt Element', 'Edwardian Script ITC', 'ISOCP', 'Juice ITC', 'Calisto MT', 'Cambria', 'ISOCT', 'Lucida Bright', 'EuroRoman', 'Artifakt Element', 'Verdana', 'PanRoman', 'High Tower Text', 'Arial', 'HCR Dotum', 'Segoe UI', 'Microsoft Himalaya', 'Arial', 'ItalicC', 'Proxy 3', 'Consolas', 'Microsoft JhengHei', 'ISOCP2', 'Segoe UI', 'MS Reference Sans Serif', 'Britannic Bold', 'Segoe UI', 'Mongolian Baiti', 'Symath', 'Lucida Sans Typewriter', 'HancomEQN', 'Script MT Bold', 'New Gulim', 'Perpetua Titling MT', 'Microsoft Yi Baiti', 'Microsoft YaHei', 'Symeteo', 'Goudy Old Style', 'Dubai', 'Perpetua Titling MT', 'SansSerif', 'Artifakt Element', 'Impact', 'Segoe UI', 'Arial', 'ISOCP2', 'AMGDT', 'Lucida Calligraphy', 'Segoe UI', 'Rockwell', 'Niagara Solid', 'Segoe UI Emoji', 'Artifakt Element', 'SimSun', 'Swis721 Cn BT', 'Constantia', 'ISOCTEUR', 'Lucida Bright', 'Han Santteut Dotum', 'GreekC', 'AIGDT', 'Bookman Old Style', 'Dutch801 Rm BT', 'Lucida Handwriting', 'Simplex', 'Times New Roman', 'Perpetua', 'Castellar', 'Tw Cen MT Condensed', 'Blackadder ITC', 'Gill Sans MT', 'SansSerif', 'Segoe Print', 'GreekC', 'TechnicLite', 'Italic', 'Lucida Console', 'Harrington', 'Leelawadee', 'Franklin Gothic Demi Cond', 'Arial', 'Bernard MT Condensed', 'Javanese Text', 'GreekS', 'Swis721 LtEx BT', 'Baskerville Old Face', 'Lucida Sans Typewriter', 'Swis721 Lt BT', 'Microsoft New Tai Lue', 'HYShortSamul-Medium', 'Georgia', 'Calibri', 'SansSerif', 'Elephant', 'Ami R', 'Swis721 BlkOul BT', 'Myanmar Text', 'Dutch801 Rm BT', 'Maiandra GD', 'Pristina', 'Simplex', 'Proxy 7', 'Trebuchet MS', 'Lucida Bright', 'Proxy 9', 'ISOCT', 'Corbel', 'Swis721 Cn BT', 'ItalicT', 'Algerian', 'MT Extra', 'Californian FB', 'Swis721 Lt BT', 'MingLiU-ExtB', 'Vineta BT', 'Rockwell Extra Bold', 'Bookshelf Symbol 7', 'Proxy 8', 'Candara', 'Txt', 'HYPost-Light', 'Swis721 BdCnOul BT', 'Franklin Gothic Heavy', 'Segoe UI', 'Times New Roman', 'Consolas', 'GOST Common', 'Consolas', 'Monospac821 BT', 'OCR A Extended', 'Symap', 'Arial', 'Segoe UI', 'Ebrima', 'Calibri', 'Lucida Fax', 'ISOCT', 'Monotxt', 'Artifakt Element', 'ISOCT2', 'Symusic', 'ScriptS', 'Swis721 BT', 'MoeumT R', 'Trebuchet MS', 'Monotxt', 'ISOCP3', 'Vivaldi', 'Arial', 'Bodoni MT', 'Syastro', 'Monospac821 BT', 'Century Schoolbook', 'Eras Light ITC', 'Swis721 Cn BT', 'Book Antiqua', 'Palatino Linotype', 'BankGothic Md BT', 'Palatino Linotype', 'Candara', 'Trebuchet MS', 'CityBlueprint', 'Dutch801 Rm BT', 'Txt', 'MS Outlook', 'Swis721 BdOul BT', 'Verdana', 'Georgia', 'GENISO', 'Eras Demi ITC', 'Monospac821 BT', 'Century Gothic', 'Eras Bold ITC', 'Gigi', 'Modern No. 20', 'Verdana', 'Trebuchet MS', 'Constantia', 'Artifakt Element', 'Leelawadee UI', 'RomanT', 'GDT_IV50', 'Rockwell Condensed', 'Verdana', 'Microsoft Sans Serif', 'Sitka Small', 'Book Antiqua', 'Garamond', 'HCR Batang', 'Symeteo', 'Dubai', 'RomanS', 'Myanmar Text', 'AmdtSymbols', 'Rockwell', 'ISOCP3', 'Sylfaen', 'High Tower Text', 'Gabriola', 'Nirmala UI', 'Hancom MalangMalang', 'HCR Batang ExtB', 'Nirmala UI', 'Lucida Sans Typewriter', 'Gill Sans MT', 'Yu Gothic', 'Chiller', 'Candara', 'Magic R', 'Candara', 'Malgun Gothic', 'Bodoni MT', 'Artifakt Element', 'Bell MT', 'Microsoft Tai Le', 'HYGungSo-Bold', 'Arial', 'Candara', 'ISOCT2', 'Malgun Gothic', 'Elephant', 'Gill Sans Ultra Bold', 'Swis721 BT', 'Informal Roman', 'CommercialPi BT', 'Bodoni MT', 'Jokerman', 'Eras Medium ITC', 'HYSinMyeongJo-Medium', 'Han Santteut Dotum', 'Californian FB', 'HYMyeongJo-Extra', 'Bodoni MT', 'Sitka Small', 'Calisto MT', 'ISOCPEUR', 'GothicG', 'Lucida Sans Typewriter', 'Gloucester MT Extra Condensed', 'Consolas', 'Microsoft Tai Le', 'Lucida Fax', 'Microsoft PhagsPa', 'ISOCT3', 'RomanS', 'Broadway', 'Courier New', 'Franklin Gothic Medium Cond', 'Courier New', 'Copperplate Gothic Bold', 'Calisto MT', 'Tw Cen MT Condensed Extra Bold', 'AMGDT_IV25', 'Swis721 BlkCn BT', 'Segoe Script', 'HoloLens MDL2 Assets', 'HCR Dotum', 'Hancom Hoonminjeongeum_V', 'Artifakt Element', 'Leelawadee UI', 'Tahoma', 'Monotxt', 'Brush Script MT', 'Artifakt Element', 'HCR Dotum Ext', 'GothicI', 'Lucida Sans', 'Calibri', 'Bodoni MT', 'Italic', 'HYHeadLine-Medium']\n"
     ]
    }
   ],
   "source": [
    "# 주피터노트북 맷플롯립을 위한 컴퓨터 그래픽 백엔드 설정\n",
    "%matplotlib inline\n",
    "\n",
    "# 설치된 폰트 출력 + 적용\n",
    "font_list = [font.name for font in fm.fontManager.ttflist]\n",
    "print(font_list)\n",
    "plt.rcParams['font.family'] = 'Hancom Gothic'"
   ]
  },
  {
   "cell_type": "markdown",
   "id": "a3d39741",
   "metadata": {},
   "source": [
    "## 데이터셋 경로"
   ]
  },
  {
   "cell_type": "code",
   "execution_count": 94,
   "id": "1fc89ce5",
   "metadata": {},
   "outputs": [],
   "source": [
    "# 데이터 경로\n",
    "rpt_path = \"data/rpt\"\n",
    "person_SNSB_path = \"data/Person_SNSB\""
   ]
  },
  {
   "cell_type": "markdown",
   "id": "3c767436",
   "metadata": {},
   "source": [
    "## 데이터 불러오기"
   ]
  },
  {
   "cell_type": "code",
   "execution_count": 95,
   "id": "add2cd97",
   "metadata": {},
   "outputs": [],
   "source": [
    "# # 데이터 불러오기\n",
    "# def load_VEEM_Data():\n",
    "#     # print(globals())\n",
    "#     person_csv_path = os.path.join(person_SNSB_path, \"person.csv\")\n",
    "#     SNSB_csv_path = os.path.join(person_SNSB_path, \"SNSB.csv\")\n",
    "#     eyerpt_csv_path = os.path.join(rpt_path, \"02_eyerpt.csv\")\n",
    "#     rpt_csv_path = os.path.join(rpt_path, \"02_rpt.csv\")\n",
    "#     # pd.read_csv()\n",
    "#     return pd.read_csv(person_csv_path)\n",
    "# person_data = load_VEEM_Data()\n",
    "\n",
    "# 데이터 불러오기\n",
    "person_csv_path = os.path.join(person_SNSB_path, \"Person.csv\")\n",
    "person_data = pd.read_csv(person_csv_path)"
   ]
  },
  {
   "cell_type": "markdown",
   "id": "802d51b3",
   "metadata": {},
   "source": [
    "## 데이터셋 출력"
   ]
  },
  {
   "cell_type": "code",
   "execution_count": 96,
   "id": "4b95ac72",
   "metadata": {},
   "outputs": [
    {
     "data": {
      "text/html": [
       "<div>\n",
       "<style scoped>\n",
       "    .dataframe tbody tr th:only-of-type {\n",
       "        vertical-align: middle;\n",
       "    }\n",
       "\n",
       "    .dataframe tbody tr th {\n",
       "        vertical-align: top;\n",
       "    }\n",
       "\n",
       "    .dataframe thead th {\n",
       "        text-align: right;\n",
       "    }\n",
       "</style>\n",
       "<table border=\"1\" class=\"dataframe\">\n",
       "  <thead>\n",
       "    <tr style=\"text-align: right;\">\n",
       "      <th></th>\n",
       "      <th>번호</th>\n",
       "      <th>성명 코드</th>\n",
       "      <th>집단</th>\n",
       "      <th>성별</th>\n",
       "      <th>나이</th>\n",
       "      <th>교육연한</th>\n",
       "    </tr>\n",
       "  </thead>\n",
       "  <tbody>\n",
       "    <tr>\n",
       "      <th>0</th>\n",
       "      <td>2</td>\n",
       "      <td>NSU1</td>\n",
       "      <td>HC</td>\n",
       "      <td>여성</td>\n",
       "      <td>71</td>\n",
       "      <td>16</td>\n",
       "    </tr>\n",
       "    <tr>\n",
       "      <th>1</th>\n",
       "      <td>3</td>\n",
       "      <td>CSR1</td>\n",
       "      <td>HC</td>\n",
       "      <td>남성</td>\n",
       "      <td>73</td>\n",
       "      <td>16</td>\n",
       "    </tr>\n",
       "    <tr>\n",
       "      <th>2</th>\n",
       "      <td>4</td>\n",
       "      <td>KMO1</td>\n",
       "      <td>MCI</td>\n",
       "      <td>여성</td>\n",
       "      <td>59</td>\n",
       "      <td>12</td>\n",
       "    </tr>\n",
       "    <tr>\n",
       "      <th>3</th>\n",
       "      <td>6</td>\n",
       "      <td>LCH1</td>\n",
       "      <td>MCI</td>\n",
       "      <td>남성</td>\n",
       "      <td>83</td>\n",
       "      <td>14</td>\n",
       "    </tr>\n",
       "    <tr>\n",
       "      <th>4</th>\n",
       "      <td>7</td>\n",
       "      <td>LYH1</td>\n",
       "      <td>MCI</td>\n",
       "      <td>여성</td>\n",
       "      <td>67</td>\n",
       "      <td>15</td>\n",
       "    </tr>\n",
       "  </tbody>\n",
       "</table>\n",
       "</div>"
      ],
      "text/plain": [
       "   번호 성명 코드   집단  성별  나이  교육연한\n",
       "0   2  NSU1   HC  여성  71    16\n",
       "1   3  CSR1   HC  남성  73    16\n",
       "2   4  KMO1  MCI  여성  59    12\n",
       "3   6  LCH1  MCI  남성  83    14\n",
       "4   7  LYH1  MCI  여성  67    15"
      ]
     },
     "execution_count": 96,
     "metadata": {},
     "output_type": "execute_result"
    }
   ],
   "source": [
    "# 데이터 처음 다섯 행\n",
    "person_data.head()"
   ]
  },
  {
   "cell_type": "code",
   "execution_count": 97,
   "id": "4a2ca7f2",
   "metadata": {},
   "outputs": [
    {
     "name": "stdout",
     "output_type": "stream",
     "text": [
      "<class 'pandas.core.frame.DataFrame'>\n",
      "RangeIndex: 37 entries, 0 to 36\n",
      "Data columns (total 6 columns):\n",
      " #   Column  Non-Null Count  Dtype \n",
      "---  ------  --------------  ----- \n",
      " 0   번호      37 non-null     int64 \n",
      " 1   성명 코드   37 non-null     object\n",
      " 2   집단      37 non-null     object\n",
      " 3   성별      37 non-null     object\n",
      " 4   나이      37 non-null     int64 \n",
      " 5   교육연한    37 non-null     int64 \n",
      "dtypes: int64(3), object(3)\n",
      "memory usage: 1.9+ KB\n"
     ]
    }
   ],
   "source": [
    "# 데이터 간략한 설명\n",
    "person_data.info() # object 변수 : 어떠한 python 객체. 여기서는 text 변수"
   ]
  },
  {
   "cell_type": "code",
   "execution_count": 98,
   "id": "ec7667f0",
   "metadata": {},
   "outputs": [
    {
     "data": {
      "text/plain": [
       "MCI    22\n",
       "HC     15\n",
       "Name: 집단, dtype: int64"
      ]
     },
     "execution_count": 98,
     "metadata": {},
     "output_type": "execute_result"
    }
   ],
   "source": [
    "# 각 데이터 개수\n",
    "person_data[\"집단\"].value_counts()"
   ]
  },
  {
   "cell_type": "code",
   "execution_count": 99,
   "id": "37a25553",
   "metadata": {
    "scrolled": true
   },
   "outputs": [
    {
     "data": {
      "text/plain": [
       "'\\n나이 : (최소)33세 ~ (평균)71세 (중간값)73세 ~ (최대)87세\\n교육 : (최소)학교 안나옴 ~ (평균)고등학교 1학년까지 (중간값)고등학교 3학년까지 ~ (최대)대학원 1학년까지\\n'"
      ]
     },
     "execution_count": 99,
     "metadata": {},
     "output_type": "execute_result"
    }
   ],
   "source": [
    "# 숫자형 데이터 요약 정보\n",
    "person_data.describe()\n",
    "\n",
    "\"\"\"\n",
    "나이 : (최소)33세 ~ (평균)71세 (중간값)73세 ~ (최대)87세\n",
    "교육 : (최소)학교 안나옴 ~ (평균)고등학교 1학년까지 (중간값)고등학교 3학년까지 ~ (최대)대학원 1학년까지\n",
    "\"\"\""
   ]
  },
  {
   "cell_type": "code",
   "execution_count": 100,
   "id": "43dcd763",
   "metadata": {},
   "outputs": [
    {
     "data": {
      "text/plain": [
       "37"
      ]
     },
     "execution_count": 100,
     "metadata": {},
     "output_type": "execute_result"
    }
   ],
   "source": [
    "# 데이터 총 개수\n",
    "len(person_data)"
   ]
  },
  {
   "cell_type": "code",
   "execution_count": 101,
   "id": "dad21629",
   "metadata": {
    "scrolled": true
   },
   "outputs": [
    {
     "data": {
      "text/plain": [
       "'\\n데이터 전처리 과정\\n최대 최소값 : 한계값 지정해야하는가?\\n    한계값 지정 필요 없음 : 한계값 밖 구역에 대한 정확한 레이블 추출\\n    한계값 지정 필요 : 한계값 밖 구역 데이터 제거\\n데이터 스케일링 : 특성간 스케일링\\n데이터 분포 : 히스토그램 꼬리 존재 -> 종 모양 변형\\n'"
      ]
     },
     "execution_count": 101,
     "metadata": {},
     "output_type": "execute_result"
    },
    {
     "data": {
      "image/png": "[encoded data removed]",
      "text/plain": [
       "<Figure size 1440x1080 with 4 Axes>"
      ]
     },
     "metadata": {
      "needs_background": "light"
     },
     "output_type": "display_data"
    }
   ],
   "source": [
    "# 숫자형 데이터 히스토그램\n",
    "person_data.hist(bins=len(person_data), figsize=(20, 15))\n",
    "\n",
    "\"\"\"\n",
    "데이터 전처리 과정\n",
    "최대 최소값 : 한계값 지정해야하는가?\n",
    "    한계값 지정 필요 없음 : 한계값 밖 구역에 대한 정확한 레이블 추출\n",
    "    한계값 지정 필요 : 한계값 밖 구역 데이터 제거\n",
    "데이터 스케일링 : 특성간 스케일링\n",
    "데이터 분포 : 히스토그램 꼬리 존재 -> 종 모양 변형\n",
    "\"\"\""
   ]
  },
  {
   "cell_type": "markdown",
   "id": "9b45403a",
   "metadata": {},
   "source": [
    "## 데이터셋 분리"
   ]
  },
  {
   "cell_type": "code",
   "execution_count": 92,
   "id": "7d6e069f",
   "metadata": {},
   "outputs": [
    {
     "data": {
      "text/plain": [
       "'\\n스누핑 편향\\n계측적 샘플링\\n\\n'"
      ]
     },
     "execution_count": 92,
     "metadata": {},
     "output_type": "execute_result"
    }
   ],
   "source": [
    "# 데이터 뒤섞기 + 데이터 train, test 분리 # 스누핑 편향 방지를 위해 test_size는 항상 같게 유지\n",
    "def split_train_test(data, test_ratio):\n",
    "    shuffled_indices = np.random.permutation(len(data))\n",
    "    test_set_size = int(len(data) * test_ratio)\n",
    "   \n",
    "    train_indices = shuffled_indices[test_set_size:]\n",
    "    test_indices = shuffled_indices[:test_set_size]\n",
    "    return data.iloc[train_indices], data.iloc[test_indices]\n",
    "\n",
    "# 데이터 뒤섞기 + 데이터 train, test 분리\n",
    "test_ratio = 0.2\n",
    "train_set, test_set = split_train_test(person_data, test_ratio)\n",
    "\n",
    "\"\"\"\n",
    "스누핑 편향\n",
    "계측적 샘플링\n",
    "\n",
    "\"\"\""
   ]
  },
  {
   "cell_type": "markdown",
   "id": "e1ef830c",
   "metadata": {},
   "source": [
    "## 데이터셋 출력"
   ]
  },
  {
   "cell_type": "code",
   "execution_count": 73,
   "id": "d209d78a",
   "metadata": {},
   "outputs": [
    {
     "name": "stdout",
     "output_type": "stream",
     "text": [
      "30 train +  7 test\n"
     ]
    }
   ],
   "source": [
    "# 분리된 데이터셋 개수\n",
    "print(len(train_set), \"train + \", len(test_set), \"test\")"
   ]
  },
  {
   "cell_type": "code",
   "execution_count": null,
   "id": "33adfcd0",
   "metadata": {},
   "outputs": [],
   "source": []
  }
 ],
 "metadata": {
  "kernelspec": {
   "display_name": "BangEnv",
   "language": "python",
   "name": "bangenv"
  },
  "language_info": {
   "codemirror_mode": {
    "name": "ipython",
    "version": 3
   },
   "file_extension": ".py",
   "mimetype": "text/x-python",
   "name": "python",
   "nbconvert_exporter": "python",
   "pygments_lexer": "ipython3",
   "version": "3.9.12"
  }
 },
 "nbformat": 4,
 "nbformat_minor": 5
}
